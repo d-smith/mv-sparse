{
 "cells": [
  {
   "cell_type": "markdown",
   "id": "53b4bfa5",
   "metadata": {},
   "source": [
    "The basic idea is representing groups of positions using a sparse array. While there can be a large number of these groups (thing about individual portfolios held by multiple individuals), expressing their holdings for each active symbol will be sparse. For example, if there are 10,000 symbols and I have 5 positions, the row representing my position will contain 9,995 entries with zero shares held.\n",
    "\n",
    "If we can represent a set of portfolios this way, can we efficiently calculate the market value as new price quotes arrive?\n",
    "\n",
    "This notebook is for messing around with this idea..."
   ]
  },
  {
   "cell_type": "markdown",
   "id": "94a2387f",
   "metadata": {},
   "source": [
    "For this sample we'll use the scipy compressed spare row (CSR) matrix."
   ]
  },
  {
   "cell_type": "code",
   "execution_count": 1,
   "id": "c2b3be1f",
   "metadata": {},
   "outputs": [],
   "source": [
    "from scipy.sparse import csr_matrix"
   ]
  },
  {
   "cell_type": "markdown",
   "id": "44008605",
   "metadata": {},
   "source": [
    "For symbols, we'll grab the top 10 most active from yahoo finance, which on the day I grebbed them are SNAP, F, FB, AMD, AAPL, BAC, T, SOFI, PINS, and NIO."
   ]
  },
  {
   "cell_type": "code",
   "execution_count": 2,
   "id": "6a90d493",
   "metadata": {},
   "outputs": [],
   "source": [
    "symbols = [\"SNAP\", \"F\", \"FB\", \"AMD\", \"AAPL\", \"BAC\", \"T\", \"SOFI\", \"PINS\", \"NIO\"]"
   ]
  },
  {
   "cell_type": "markdown",
   "id": "08ed2c22",
   "metadata": {},
   "source": [
    "In a non-spase representation, a view of 3 sets of positions might be represented like this:"
   ]
  },
  {
   "cell_type": "code",
   "execution_count": 3,
   "id": "7dd177be",
   "metadata": {},
   "outputs": [],
   "source": [
    "from numpy import array"
   ]
  },
  {
   "cell_type": "code",
   "execution_count": 5,
   "id": "9897bc6b",
   "metadata": {},
   "outputs": [
    {
     "name": "stdout",
     "output_type": "stream",
     "text": [
      "[[1 0 0 0 0 0 0 0 1 0]\n",
      " [0 1 0 1 0 0 0 0 0 0]\n",
      " [0 0 0 0 0 1 1 0 0 0]]\n"
     ]
    }
   ],
   "source": [
    "positions = array([[1,0,0,0,0,0,0,0,1,0],[0,1,0,1,0,0,0,0,0,0],[0,0,0,0,0,1,1,0,0,0]])\n",
    "print(positions)"
   ]
  },
  {
   "cell_type": "markdown",
   "id": "18f2cb6b",
   "metadata": {},
   "source": [
    "Even in the trivial case above we can see the inefficiencies. Compare with the sparse representation."
   ]
  },
  {
   "cell_type": "code",
   "execution_count": 6,
   "id": "4afb31fd",
   "metadata": {},
   "outputs": [
    {
     "name": "stdout",
     "output_type": "stream",
     "text": [
      "  (0, 0)\t1\n",
      "  (0, 8)\t1\n",
      "  (1, 1)\t1\n",
      "  (1, 3)\t1\n",
      "  (2, 5)\t1\n",
      "  (2, 6)\t1\n"
     ]
    }
   ],
   "source": [
    "sp = csr_matrix(positions)\n",
    "print(sp)"
   ]
  },
  {
   "cell_type": "markdown",
   "id": "5000cb12",
   "metadata": {},
   "source": [
    "Now calculation market value given a set of quotes, first if there's a price quote for all symbols"
   ]
  },
  {
   "cell_type": "code",
   "execution_count": 12,
   "id": "39883b3a",
   "metadata": {},
   "outputs": [
    {
     "name": "stdout",
     "output_type": "stream",
     "text": [
      "  (0, 0)\t38.91\n",
      "  (0, 8)\t27.25\n",
      "  (1, 1)\t17.96\n",
      "  (1, 3)\t123.6\n",
      "  (2, 5)\t48.28\n",
      "  (2, 6)\t24.08\n"
     ]
    }
   ],
   "source": [
    "latest_prices = [38.91,17.96, 237.09,123.60,172.39,48.28,24.08,11.89,27.25,23.96]\n",
    "print(sp.multiply(latest_prices))"
   ]
  },
  {
   "cell_type": "markdown",
   "id": "b02a8429",
   "metadata": {},
   "source": [
    "We can also represent just some symbols having price updates as a sparse array, and use that to calculate market values."
   ]
  },
  {
   "cell_type": "code",
   "execution_count": 18,
   "id": "e452499a",
   "metadata": {},
   "outputs": [
    {
     "name": "stdout",
     "output_type": "stream",
     "text": [
      "  (0, 1)\t17.96\n",
      "  (0, 4)\t172.39\n"
     ]
    }
   ],
   "source": [
    "# Here we have prices only for ford (F) and apple (AAPL), at columns 1 and 4, respectively\n",
    "row = array([0,0])\n",
    "col = array([1,4])\n",
    "data = array([17.96,172.39])\n",
    "sparse_prices = csr_matrix((data, (row, col)), shape=(1, 10))\n",
    "print(sparse_prices)"
   ]
  },
  {
   "cell_type": "code",
   "execution_count": 17,
   "id": "83f83ba1",
   "metadata": {},
   "outputs": [
    {
     "name": "stdout",
     "output_type": "stream",
     "text": [
      "[[  0.    17.96   0.     0.   172.39   0.     0.     0.     0.     0.  ]]\n"
     ]
    }
   ],
   "source": [
    "print(sparse_prices.toarray())"
   ]
  },
  {
   "cell_type": "markdown",
   "id": "216a1bd4",
   "metadata": {},
   "source": [
    "Now calculate position market value based on last quote"
   ]
  },
  {
   "cell_type": "code",
   "execution_count": 20,
   "id": "35d4e060",
   "metadata": {},
   "outputs": [
    {
     "name": "stdout",
     "output_type": "stream",
     "text": [
      "  (1, 1)\t17.96\n",
      "[[ 0.    0.    0.    0.    0.    0.    0.    0.    0.    0.  ]\n",
      " [ 0.   17.96  0.    0.    0.    0.    0.    0.    0.    0.  ]\n",
      " [ 0.    0.    0.    0.    0.    0.    0.    0.    0.    0.  ]]\n"
     ]
    }
   ],
   "source": [
    "print(sp.multiply(sparse_prices))\n",
    "print(sp.multiply(sparse_prices).toarray())"
   ]
  },
  {
   "cell_type": "code",
   "execution_count": 22,
   "id": "e779066b",
   "metadata": {},
   "outputs": [
    {
     "name": "stdout",
     "output_type": "stream",
     "text": [
      "[[1 0 0 0 0 0 0 0 1 0]\n",
      " [0 1 0 1 0 0 0 0 0 0]\n",
      " [0 0 0 0 0 1 1 0 0 0]]\n"
     ]
    }
   ],
   "source": [
    "# Original set of positions - no apple holdings, one ford holding\n",
    "print(positions)"
   ]
  },
  {
   "cell_type": "code",
   "execution_count": null,
   "id": "d8cadcb2",
   "metadata": {},
   "outputs": [],
   "source": []
  }
 ],
 "metadata": {
  "kernelspec": {
   "display_name": "Python 3",
   "language": "python",
   "name": "python3"
  },
  "language_info": {
   "codemirror_mode": {
    "name": "ipython",
    "version": 3
   },
   "file_extension": ".py",
   "mimetype": "text/x-python",
   "name": "python",
   "nbconvert_exporter": "python",
   "pygments_lexer": "ipython3",
   "version": "3.8.8"
  }
 },
 "nbformat": 4,
 "nbformat_minor": 5
}
